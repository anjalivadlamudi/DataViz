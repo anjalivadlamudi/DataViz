import numpy as np
import matplotlib.pyplot as plt
import pandas as pd

data = pd.read_csv("./store_data.csv", encoding="windows-1252")
data.head()


# Filter the data to include only negative profits
positveProfit = data[data['Profit'] >= 0]


fig = plt.figure(figsize=(10, 10))
# Create the bar plot
plt.bar(positveProfit['Region'], positveProfit['Profit'], color = ['green'])

# Add axis labels and a title
plt.xticks(rotation=90)
plt.xlabel('Region')
plt.ylabel('Profits')
plt.title('Pofits by Region')

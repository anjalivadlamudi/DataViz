#this project with tie in previous concepts of data management, filtering, visual encoding, color styling, interactivity,
#and dashboarding.

#https://youtu.be/kgdJXN-M3g0 <<<<link to video on this project

#TWEAK the code below to make the following changes:
#1) add a different data source instead of animal and rating, using anything else.  You can either
#     directly type data in or load a dataframe from a csv
#2) add an additional visualisation.  it can be a bar chart, column chart, line chart, anything really.  Do not remove 
#     the existing bar chart.  
#3) conform to a company's marketing / recommended color requirements and share the link to the palette in your code.
#4) submit your homework as a link to your github ipynb page.

import param
import pandas as pd 
import matplotlib.pyplot as plt
import seaborn as sns
import panel as pn
pn.extension()

# make plots static
%matplotlib inline

# change the dataset to your own data.  it can be ANYTHING, as long as you can make a dashboard from it.
#use different data!
df = pd.read_csv('country_data.csv')


# create a class containing an animal selector drop-down, various plots, and a data table output
class CountryDashboard(param.Parameterized):
  

    # drop down selector widget containing the list of countries, with the default being 'United States'
    Country = param.ObjectSelector(default='United States', objects=list(df.Country.unique()))
    
    # create data set containing only the data applicable to the country in the drop down selector
    def get_data(self):
        class_df = df[(df.Country==self.Country)].copy()
        return class_df

    
    # seaborn bar plot for the chosen country's GDP and population
    def bar_view(self):
        data = self.get_data() 
        ax = sns.barplot(x=['GDP', 'Population'], y=[data['GDP'].values[0], data['Population'].values[0]])
        plt.close()
        return ax.figure

    
    # table of data for the chosen animal
    def table_view(self):
        data = self.get_data()
        return data

# create an instance of the class
cd = CountryDashboard(name='')

# create a title for the dashboard
dashboard_title = '# Country Data Dashboard'

dashboard_desc = 'An example of a simple interactive HoloViz Panel dashboard using a dataset of country GDP and population.'

# create a dashboard, defining the layout as one column containing the
# dashboard title, dashboard description, 'Animal' drop down selector,
# box plot, and data table
dashboard = pn.Column(dashboard_title,
dashboard_desc,
cd.param, # 'Country' drop down selector
cd.bar_view, # bar plot
cd.table_view # data table
)

dashboard.embed(max_opts = 5)
